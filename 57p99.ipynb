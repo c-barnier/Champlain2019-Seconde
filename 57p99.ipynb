{
  "nbformat": 4,
  "nbformat_minor": 0,
  "metadata": {
    "colab": {
      "name": "57p99 corrigé.ipynb",
      "provenance": [],
      "collapsed_sections": []
    },
    "kernelspec": {
      "name": "python3",
      "display_name": "Python 3"
    }
  },
  "cells": [
    {
      "cell_type": "markdown",
      "metadata": {
        "id": "KNg8KpHyuDen",
        "colab_type": "text"
      },
      "source": [
        "# **Fonctions**\n",
        "Vous trouverez dans ce notebook:\n",
        "\n",
        "\n",
        "*   Une fonction python pour afficher le tableau de valeur d'une fonction informatique:`tableau(fonction,debut,fin,pas)`\n",
        "*   Une fonction python pour afficher le graphe d'une fonction:`graphe(fonction,debut,fin,pas)`\n",
        "\n",
        "Pour pouvoir utiliser ses deux fonctions pythons il faut tout d'abord **compiler/éxecuter** le code ci dessous: mettez vous sur le code puis tapez [Ctrl]+[entrée] en même temps.\n",
        "\n"
      ]
    },
    {
      "cell_type": "code",
      "metadata": {
        "id": "iNIscr_aPL9D",
        "colab_type": "code",
        "colab": {}
      },
      "source": [
        "import matplotlib.pyplot as plt #On charge la librairie matplotlib pour l'affichage des graphiques\n",
        "\n",
        "\n",
        " #Affichage du tableau de valeur d'une fonction on fait varier x entre debut et fin avec un pas donné\n",
        " # et on affiche x et son image par la fonction donnée.\n",
        "\n",
        "def tableau(fonction,debut,fin,pas):\n",
        "  assert debut<=fin         #On teste si le debut est bien inférieur à fin avant d'attaquer le calcul\n",
        "  x=debut                   #On initialise x\n",
        "  while x<=fin:             #tant que x est plus petit ou égal à fin on fait la boucke suivante\n",
        "    print(x,fonction(x))    #On affiche x et son image\n",
        "    x=x+pas                 #on incrémente x de la valeur de pas et on repart au début de la boucle while()\n",
        "\n",
        "\n",
        "\n",
        "#Affichage du graphe d'une fonction : on fait varier x entre debut et fin avec un pas donné,\n",
        "    #on stocke les coordonnées (x,f(x))des points calculés dans deux listes#\n",
        "    #puis on affiche le graphe.\n",
        "  \n",
        "def graphe(fonction,debut,fin):\n",
        "   \n",
        "  assert debut<fin         #On teste si le debut est bien inférieur à fin avant d'attaquer le calcul\n",
        "  pas=(fin-debut)/1000      #On calcule le pas en abscisse pour qu'il y est 1000 points calculé sur le graphe\n",
        "  Lx=[debut]                #on initialise la liste qui contiendra l'abscisse des points de la courbes\n",
        "  Ly=[fonction(debut)]      #on initialise la liste qui contiendra l'ordonnée des points de la courbes\n",
        "  x=debut+pas               #on passe au deuxième points\n",
        "  while x<=fin:             #tant que x est inférieur ou égal à fin on refait la boucle\n",
        "    Lx.append(x)            #on ajoute l'abscisse du point courant dans la liste des abscisses\n",
        "    Ly.append(fonction(x))  #on ajoute l'ordonnée du point courant dans la liste des abscisses\n",
        "    x=x+pas                 #On incrémente x de la valeur de pas et on repart au début de la boucle while()\n",
        "\n",
        "  #La boucle est fini car x>fin. Toutes les coordonnées des points d'abscisse comprise entre début et fin on été calculées et rangées dans deux listes \n",
        "  #On peut afficher le graphe de la fonction                        \n",
        "  plt.plot([debut,fin], [0.0, 0.0], 'k-', lw=2) # Axe des abscisses\n",
        "  plt.plot(Lx,Ly,'r,')\n",
        "  plt.grid()\n",
        "  plt.xlabel('x')\n",
        "  plt.ylabel('y')\n",
        "  plt.show() "
      ],
      "execution_count": 0,
      "outputs": []
    },
    {
      "cell_type": "markdown",
      "metadata": {
        "id": "F8PAAp2doiDD",
        "colab_type": "text"
      },
      "source": [
        "On considère la fonction $f$ définie par:\n",
        "\n",
        "\n",
        "*   $f(x)=2x+3$ si x$\\leq -2$\n",
        "*   $f(x)=-x+1$ si $-2<x \\leq 4$\n",
        "*   $f(x)=2x+5$ si $x>4$\n",
        "\n",
        "Ecrire une fonction en langage Python qui renvoie l'image d'un nombre quelconque par la fonction $f$.\n",
        "\n",
        "\n",
        "\n"
      ]
    },
    {
      "cell_type": "code",
      "metadata": {
        "id": "SX41TlXzpO_2",
        "colab_type": "code",
        "colab": {}
      },
      "source": [
        "def f(x):\n",
        "  if x<=-2:\n",
        "    return 2*x+3\n",
        "  if -2<x and x<=4:\n",
        "    return -x+1\n",
        "  if x>4:\n",
        "    return 2*x+5\n"
      ],
      "execution_count": 0,
      "outputs": []
    },
    {
      "cell_type": "code",
      "metadata": {
        "id": "KNMwXKwFpqLA",
        "colab_type": "code",
        "outputId": "33b6ab41-95ab-46ea-8df0-f5ea3382a8ce",
        "colab": {
          "base_uri": "https://localhost:8080/",
          "height": 279
        }
      },
      "source": [
        "graphe(f,-10,10)"
      ],
      "execution_count": 0,
      "outputs": [
        {
          "output_type": "display_data",
          "data": {
            "image/png": "[encoded data removed]",
            "text/plain": [
              "<Figure size 432x288 with 1 Axes>"
            ]
          },
          "metadata": {
            "tags": []
          }
        }
      ]
    },
    {
      "cell_type": "code",
      "metadata": {
        "id": "3VKX4ByPqKuj",
        "colab_type": "code",
        "colab": {}
      },
      "source": [
        "def f1(x):\n",
        "  if x<=-2:\n",
        "    return 2*x+3\n",
        "  else:\n",
        "    if x<=4:\n",
        "      return -x+1\n",
        "    else:\n",
        "      return 2*x+5\n"
      ],
      "execution_count": 0,
      "outputs": []
    },
    {
      "cell_type": "code",
      "metadata": {
        "id": "bL3ibwSaqjRh",
        "colab_type": "code",
        "outputId": "fbf3de65-b264-49f6-c504-2d6055470206",
        "colab": {
          "base_uri": "https://localhost:8080/",
          "height": 279
        }
      },
      "source": [
        "graphe(f1,-10,10)"
      ],
      "execution_count": 0,
      "outputs": [
        {
          "output_type": "display_data",
          "data": {
            "image/png": "[encoded data removed]",
            "text/plain": [
              "<Figure size 432x288 with 1 Axes>"
            ]
          },
          "metadata": {
            "tags": []
          }
        }
      ]
    },
    {
      "cell_type": "code",
      "metadata": {
        "id": "8-YFYeqjJOUr",
        "colab_type": "code",
        "colab": {}
      },
      "source": [
        "def f2(x):\n",
        "  if x<=-2:\n",
        "    return 2*x+3\n",
        "  elif x<=4:\n",
        "    return -x+1\n",
        "  else:\n",
        "    return 2*x+5"
      ],
      "execution_count": 0,
      "outputs": []
    },
    {
      "cell_type": "code",
      "metadata": {
        "id": "PbeAjExkJa8p",
        "colab_type": "code",
        "outputId": "10f9a836-79ed-4a11-979a-4a836f36cefe",
        "colab": {
          "base_uri": "https://localhost:8080/",
          "height": 279
        }
      },
      "source": [
        "graphe(f2,-10,10)"
      ],
      "execution_count": 0,
      "outputs": [
        {
          "output_type": "display_data",
          "data": {
            "image/png": "[encoded data removed]",
            "text/plain": [
              "<Figure size 432x288 with 1 Axes>"
            ]
          },
          "metadata": {
            "tags": []
          }
        }
      ]
    },
    {
      "cell_type": "code",
      "metadata": {
        "id": "RCZI36jzJhwI",
        "colab_type": "code",
        "outputId": "59ecd02e-6945-4233-fbcc-7d2dacf09ff2",
        "colab": {
          "base_uri": "https://localhost:8080/",
          "height": 370
        }
      },
      "source": [
        "tableau(f,-10,10,1)"
      ],
      "execution_count": 0,
      "outputs": [
        {
          "output_type": "stream",
          "text": [
            "-10 -17\n",
            "-9 -15\n",
            "-8 -13\n",
            "-7 -11\n",
            "-6 -9\n",
            "-5 -7\n",
            "-4 -5\n",
            "-3 -3\n",
            "-2 -1\n",
            "-1 2\n",
            "0 1\n",
            "1 0\n",
            "2 -1\n",
            "3 -2\n",
            "4 -3\n",
            "5 15\n",
            "6 17\n",
            "7 19\n",
            "8 21\n",
            "9 23\n",
            "10 25\n"
          ],
          "name": "stdout"
        }
      ]
    }
  ]
}