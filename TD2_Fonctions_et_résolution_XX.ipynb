{
  "nbformat": 4,
  "nbformat_minor": 0,
  "metadata": {
    "colab": {
      "name": "TD2-Fonctions et résolution- XX.ipynb",
      "provenance": [],
      "collapsed_sections": []
    },
    "kernelspec": {
      "name": "python3",
      "display_name": "Python 3"
    }
  },
  "cells": [
    {
      "cell_type": "markdown",
      "metadata": {
        "id": "xKR4zwEQIyGr",
        "colab_type": "text"
      },
      "source": [
        "## **0 - Travail préparatoire**\n",
        "1)Donner votre nom et prénom du groupe\n",
        "\n",
        "Nom:\n",
        "\n",
        "Prénom:\n",
        "\n",
        "2)Ajouter vos initiales dans le nom du fichier à la place des **XX** en haut: **TD2-Fonctions et résolution- XX.ipynb**.\n",
        "\n",
        "\n"
      ]
    },
    {
      "cell_type": "code",
      "metadata": {
        "id": "YyhW12qnIhS3",
        "colab_type": "code",
        "colab": {}
      },
      "source": [
        "def f(x):\n",
        "  y=....................           #On entre ici l'expression de f(x) en fonction de x\n",
        "  return y"
      ],
      "execution_count": 0,
      "outputs": []
    },
    {
      "cell_type": "markdown",
      "metadata": {
        "id": "wqBiXgUPKGY0",
        "colab_type": "text"
      },
      "source": [
        "Dans le code ci dessus, vous devez programmer la fonction f(x)=x³+x²-x-1.5\n",
        "\n",
        "Attention, en python x³ s'écrit ``` x**3 ```, x² s'écrit ``` x**2 ```\n",
        "\n",
        "\n",
        "\n",
        "\n",
        "1.   Compléter les pointillés avec la valeur de f(x) en fonction de x.\n",
        "2.   Compiler le code ci-dessus pour que la fonction soit reconnu\n",
        "3.   Compiler le code ci-dessous pour calculer l'image d'un nombre par f.\n",
        "4.   Remplir la feuille de TD et faites vérifier vos valeurs.\n"
      ]
    },
    {
      "cell_type": "code",
      "metadata": {
        "id": "ZvJKST1_KwWB",
        "colab_type": "code",
        "colab": {}
      },
      "source": [
        "f(1)"
      ],
      "execution_count": 0,
      "outputs": []
    },
    {
      "cell_type": "markdown",
      "metadata": {
        "id": "8RQm6cI8PBJB",
        "colab_type": "text"
      },
      "source": [
        "## **2 - Afficher le graphe d'une fonction - Résoudre graphiquement l''équation f(x)=0 par zoom graphique**"
      ]
    },
    {
      "cell_type": "code",
      "metadata": {
        "id": "iNIscr_aPL9D",
        "colab_type": "code",
        "colab": {}
      },
      "source": [
        "import matplotlib.pyplot as plt\n",
        "def graphe(fonction,debut,fin,pas):\n",
        "  Lx=[debut]\n",
        "  Ly=[fonction(debut)]\n",
        "  x=debut+pas\n",
        "  while x<=fin:\n",
        "    Lx.append(x)\n",
        "    Ly.append(fonction(x))\n",
        "    x=x+pas\n",
        "  plt.plot([debut,fin], [0.0, 0.0], 'k-', lw=2) # Axe des abscisses\n",
        "  plt.plot(Lx,Ly,'r.')\n",
        "  plt.grid()\n",
        "  plt.xlabel('x')\n",
        "  plt.ylabel('y')\n",
        "  plt.show() "
      ],
      "execution_count": 0,
      "outputs": []
    },
    {
      "cell_type": "markdown",
      "metadata": {
        "id": "PblCPgq5RCh4",
        "colab_type": "text"
      },
      "source": [
        "Le code ci dessus permet d'afficher le graphe d'une fonction sous forme de nuages de points. Il faut lui donner 4 paramètres\n",
        "\n",
        "\n",
        "*   `fonction`: la fonction à afficher\n",
        "*   `debut`: début de l'intervalle d'étude\n",
        "*   `fin`: fin de l'intervalle d'étude\n",
        "*   `pas`: pas entre deux abscisses successives\n",
        "\n",
        "**Travail à faire**\n",
        "\n",
        "1.   Compiler le code ci dessus pour que la foncion python `graphe()` soit reconnue.\n",
        "2.   Compiler le code ci-dessous pour afficher le graphe de la fonction entre -3 et 3 avec un pas de 0.5.\n",
        "3.   Diminuer le pas jusqu'à ce que le graphe de f vous semble continu. ( renseigner la feuille de TD)\n",
        "\n",
        "**Résolution de f(x)=0 par zoom graphique**\n",
        "On appelera c la solution de l'équation f(x)=0\n",
        "\n",
        "1.   Entre quelles valeurs la fonction f s'annule-t-elle?\n",
        "2.   Afficher la fonction entre ses deux valeurs, trouver un encadrement plus précis de c.\n",
        "3.   Refaire un nouveau zoom graphique, continuez jusqu'à pouvoir donner un encadrement de $c$ à 0,01 près.\n"
      ]
    },
    {
      "cell_type": "code",
      "metadata": {
        "id": "g9PjlodJT2F8",
        "colab_type": "code",
        "colab": {}
      },
      "source": [
        "graphe(f,-3,3,0.5)"
      ],
      "execution_count": 0,
      "outputs": []
    },
    {
      "cell_type": "markdown",
      "metadata": {
        "id": "rT98cxhWlrHs",
        "colab_type": "text"
      },
      "source": [
        "## **3 - Afficher un tableau de valeur, Résoudre f(x)=0 par zoom numérique**"
      ]
    },
    {
      "cell_type": "code",
      "metadata": {
        "id": "_-cp8K6yl12x",
        "colab_type": "code",
        "colab": {}
      },
      "source": [
        "def tableau(fonction,debut,fin,pas):\n",
        "  x=debut\n",
        "  while x<=fin:\n",
        "    y=f(x)\n",
        "    print(x,f(x))\n",
        "    x=x+pas\n",
        "  "
      ],
      "execution_count": 0,
      "outputs": []
    },
    {
      "cell_type": "markdown",
      "metadata": {
        "id": "fmP1GbgBmUYW",
        "colab_type": "text"
      },
      "source": [
        "Le code ci-dessus permet d'afficher les images par la `fonction` des nombres compris entre `debut` et `fin`, avec un pas donnée.\n",
        "\n",
        "**Travail à faire**\n",
        "On appelera c la solution de l'équation f(x)=0. c est la valeur ou f s'annule\n",
        "\n",
        "*   Compiler le code ci dessus pour que la fonction `tableau` soit reconnue.\n",
        "*   A l'aide du code ci-dessous, afficher un tableau de valeur entre -3 et 3 avec un pas de 1\n",
        "*   Entre quelles valeurs la fonction s'annule-t-elle?\n",
        "*   Afficher le tableau de valeur entre ses deux valeurs avec un pas de 0,1.\n",
        "*   Recommencer ce processus en divisant à chaque fois le pas par 10\n",
        "*   En final, donner un encadrement de c à 0,01 près ( 2 décimales).\n",
        "\n",
        "\n",
        "\n",
        "\n",
        "\n"
      ]
    },
    {
      "cell_type": "code",
      "metadata": {
        "id": "ut3zncGeoV6n",
        "colab_type": "code",
        "colab": {}
      },
      "source": [
        "tableau(f,1,2,0.1)"
      ],
      "execution_count": 0,
      "outputs": []
    }
  ]
}