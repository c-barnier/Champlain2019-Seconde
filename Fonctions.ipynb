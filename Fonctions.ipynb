{
  "nbformat": 4,
  "nbformat_minor": 0,
  "metadata": {
    "colab": {
      "name": "Fonctions.ipynb",
      "provenance": [],
      "collapsed_sections": []
    },
    "kernelspec": {
      "name": "python3",
      "display_name": "Python 3"
    }
  },
  "cells": [
    {
      "cell_type": "markdown",
      "metadata": {
        "id": "KNg8KpHyuDen",
        "colab_type": "text"
      },
      "source": [
        "# **Fonctions**\n",
        "Vous trouverez dans ce notebook:\n",
        "\n",
        "\n",
        "*   Une fonction python pour afficher le tableau de valeur d'une fonction informatique:`tableau(fonction,debut,fin,pas)`\n",
        "*   Une fonction python pour afficher le graphe d'une fonction:`graphe(fonction,debut,fin,pas)`\n",
        "\n",
        "Pour pouvoir utiliser ses deux fonctions pythons il faut tout d'abord **compiler/éxecuter** le code ci dessous: mettez vous sur le code puis tapez [Ctrl]+[entrée] en même temps.\n",
        "\n"
      ]
    },
    {
      "cell_type": "code",
      "metadata": {
        "id": "iNIscr_aPL9D",
        "colab_type": "code",
        "colab": {}
      },
      "source": [
        "import matplotlib.pyplot as plt #On charge la librairie matplotlib pour l'affichage des graphiques\n",
        "\n",
        "\n",
        " #Affichage du tableau de valeur d'une fonction on fait varier x entre debut et fin avec un pas donné\n",
        " # et on affiche x et son image par la fonction donnée.\n",
        "\n",
        "def tableau(fonction,debut,fin,pas):\n",
        "  assert debut<=fin         #On teste si le debut est bien inférieur à fin avant d'attaquer le calcul\n",
        "  x=debut                   #On initialise x\n",
        "  while x<=fin:             #tant que x est plus petit ou égal à fin on fait la boucke suivante\n",
        "    print(x,fonction(x))    #On affiche x et son image\n",
        "    x=x+pas                 #on incrémente x de la valeur de pas et on repart au début de la boucle while()\n",
        "\n",
        "\n",
        "\n",
        "#Affichage du graphe d'une fonction : on fait varier x entre debut et fin avec un pas donné,\n",
        "    #on stocke les coordonnées (x,f(x))des points calculés dans deux listes#\n",
        "    #puis on affiche le graphe.\n",
        "  \n",
        "def graphe(fonction,debut,fin):\n",
        "   \n",
        "  assert debut<fin         #On teste si le debut est bien inférieur à fin avant d'attaquer le calcul\n",
        "  pas=(fin-debut)/1000      #On calcule le pas en abscisse pour qu'il y est 1000 points calculé sur le graphe\n",
        "  Lx=[debut]                #on initialise la liste qui contiendra l'abscisse des points de la courbes\n",
        "  Ly=[fonction(debut)]      #on initialise la liste qui contiendra l'ordonnée des points de la courbes\n",
        "  x=debut+pas               #on passe au deuxième points\n",
        "  while x<=fin:             #tant que x est inférieur ou égal à fin on refait la boucle\n",
        "    Lx.append(x)            #on ajoute l'abscisse du point courant dans la liste des abscisses\n",
        "    Ly.append(fonction(x))  #on ajoute l'ordonnée du point courant dans la liste des abscisses\n",
        "    x=x+pas                 #On incrémente x de la valeur de pas et on repart au début de la boucle while()\n",
        "\n",
        "  #La boucle est fini car x>fin. Toutes les coordonnées des points d'abscisse comprise entre début et fin on été calculées et rangées dans deux listes \n",
        "  #On peut afficher le graphe de la fonction                        \n",
        "  plt.plot([debut,fin], [0.0, 0.0], 'k-', lw=2) # Axe des abscisses\n",
        "  plt.plot(Lx,Ly,'r-')\n",
        "  plt.grid()\n",
        "  plt.xlabel('x')\n",
        "  plt.ylabel('y')\n",
        "  plt.show() "
      ],
      "execution_count": 0,
      "outputs": []
    },
    {
      "cell_type": "markdown",
      "metadata": {
        "id": "wqBiXgUPKGY0",
        "colab_type": "text"
      },
      "source": [
        "### **Exemple d'utilisation:**\n",
        "\n",
        "Dans le code ci dessus, nous programmons la fonction `g(x)=x³+x²-x-1.5`\n",
        "\n",
        "**Attention,** en python x³ s'écrit ``` x**3 ```, x² s'écrit ``` x**2 ```\n",
        "\n",
        "Puis nous affichons le tableau de valeur de la fonction g entre -3 et 3 ainsi que sont graphe.\n",
        "\n",
        "\n",
        "[Ctrl]+[entrée] Pour éxécuter le code\n",
        "\n"
      ]
    },
    {
      "cell_type": "code",
      "metadata": {
        "id": "YyhW12qnIhS3",
        "colab_type": "code",
        "colab": {
          "base_uri": "https://localhost:8080/",
          "height": 397
        },
        "outputId": "1deb8493-c8d2-4f4b-c8db-f8649788d906"
      },
      "source": [
        "def g(x):                      #On definie une fonction python qui renvoie l'image de x\n",
        "  y=x**3+x**2-x-1.5           #On entre ici l'expression de g(x) en fonction de x\n",
        "  return y                     #On retourne la valeur de l'image de x par g\n",
        "\n",
        "\n",
        "tableau(g,-3,3,1)             #On affiche le tableau de valeur de la fonction g entre -3 et 3 avec un pas de 1\n",
        "graphe(g,-3,3)              #On affiche la courbe représentative de la fonction g entre -3 et 3\n",
        "\n"
      ],
      "execution_count": 22,
      "outputs": [
        {
          "output_type": "stream",
          "text": [
            "-3 -16.5\n",
            "-2 -3.5\n",
            "-1 -0.5\n",
            "0 -1.5\n",
            "1 -0.5\n",
            "2 8.5\n",
            "3 31.5\n"
          ],
          "name": "stdout"
        },
        {
          "output_type": "display_data",
          "data": {
            "image/png": "[encoded data removed]",
            "text/plain": [
              "<Figure size 432x288 with 1 Axes>"
            ]
          },
          "metadata": {
            "tags": []
          }
        }
      ]
    },
    {
      "cell_type": "markdown",
      "metadata": {
        "id": "r6x5bDyI27br",
        "colab_type": "text"
      },
      "source": [
        "**A vous de jouer:**\n",
        "\n",
        " vous pouvez programmer n'importe qu'elle fonction, afficher son tableau de valeur, son graphe, lire graphiquement les variations de la fonction, résoudre une équation du type f(x)=0...."
      ]
    }
  ]
}