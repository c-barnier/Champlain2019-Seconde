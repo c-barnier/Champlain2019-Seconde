{
  "nbformat": 4,
  "nbformat_minor": 0,
  "metadata": {
    "colab": {
      "name": "TD1-arithmetique_seconde_vosinitiales.ipynb",
      "provenance": [],
      "collapsed_sections": []
    },
    "kernelspec": {
      "name": "python3",
      "display_name": "Python 3"
    }
  },
  "cells": [
    {
      "cell_type": "markdown",
      "metadata": {
        "id": "ZrrWDWyisaLn",
        "colab_type": "text"
      },
      "source": [
        "#TD1 -  **Arithmétique en Seconde**"
      ]
    },
    {
      "cell_type": "markdown",
      "metadata": {
        "id": "_24pWOV8rAjt",
        "colab_type": "text"
      },
      "source": [
        "## **0 - Travail préparatoire**\n",
        "1)Remplir les noms et prénoms du groupe\n",
        "\n",
        "\n",
        "*   élève 1 : \n",
        "*   élève 2 :\n",
        "*   élève 3 :\n",
        "*   élève 4 :\n",
        "\n",
        "\n",
        "\n",
        "\n",
        "\n",
        "2)Ajouter les initiales des noms dans le nom du fichier en haut: **arithmetique_seconde_CNB.ipynb**.\n",
        "\n",
        "3)Quand vous avez fini votre travail, Dans le menu fichier choississez \"Télécharger le fichier .ipynb\", retrouver le fichier sur votre ordinateur dans le dossier téléchargement, et le copier dans l'espace de travail de la classe sur le réseau.\n",
        "\n"
      ]
    },
    {
      "cell_type": "markdown",
      "metadata": {
        "id": "xC0gMLCXjAB1",
        "colab_type": "text"
      },
      "source": [
        "\n",
        "\n",
        "---\n",
        "\n",
        "\n",
        "## **I - Multiples**\n",
        "**I.1 Les nombres entiers**\n",
        "\n",
        " Voici un programme qui affiche les nombres de 0 à 100.\n",
        "Pour l'exécuter, Cliquer sur la flèche \"Play\" à gauche du code."
      ]
    },
    {
      "cell_type": "code",
      "metadata": {
        "id": "7oN5Eh8Ci-yv",
        "colab_type": "code",
        "colab": {}
      },
      "source": [
        "for i in range(101):\n",
        "  print(i)"
      ],
      "execution_count": 0,
      "outputs": []
    },
    {
      "cell_type": "markdown",
      "metadata": {
        "id": "WQxynb75kzFN",
        "colab_type": "text"
      },
      "source": [
        "**I.2 - Les nombres pairs** \n",
        "\n",
        " Sur la base du programme I.1, écrire un programme qui affiche les 100 premiers multiples de 2, c'est à dire les nombres paires."
      ]
    },
    {
      "cell_type": "code",
      "metadata": {
        "colab_type": "code",
        "id": "aAH2y4aylNit",
        "colab": {}
      },
      "source": [
        "for i in range(101):\n",
        "  print(i)"
      ],
      "execution_count": 0,
      "outputs": []
    },
    {
      "cell_type": "markdown",
      "metadata": {
        "colab_type": "text",
        "id": "Mdl5NLorla2r"
      },
      "source": [
        "**I.3 Les nombres impairs**\n",
        "\n",
        "Sur la base du programme I.1, écrire un programme qui affiche les 100 premiers nombres impairs. Attention, le premier nombre impair est 1."
      ]
    },
    {
      "cell_type": "code",
      "metadata": {
        "colab_type": "code",
        "id": "whKtOZ3YlpR8",
        "colab": {}
      },
      "source": [
        "for i in range(101):\n",
        "  print(i)"
      ],
      "execution_count": 0,
      "outputs": []
    },
    {
      "cell_type": "markdown",
      "metadata": {
        "colab_type": "text",
        "id": "4v1C789jl3FL"
      },
      "source": [
        "### **I.4 Les multiples de 3**\n",
        "\n",
        " Sur la base du programme I.1, écrire un programme qui affiche les 100 premiers multiple de a, ou a est un nombre entier quelconque."
      ]
    },
    {
      "cell_type": "code",
      "metadata": {
        "colab_type": "code",
        "id": "fKL1Qkgvmiej",
        "colab": {}
      },
      "source": [
        "a=3\n",
        "for i in range(101):\n",
        "  print(i)"
      ],
      "execution_count": 0,
      "outputs": []
    },
    {
      "cell_type": "markdown",
      "metadata": {
        "id": "OrLDl4V3m5m0",
        "colab_type": "text"
      },
      "source": [
        "## **II - La fonction mathématique % ne donne pas le pourcentage, que donne-t-elle?**\n",
        "**II.1** Nous allons utiliser une nouvel fonction mathématique dont le symbole est le %.\n",
        "Le programme suivant affiche pour chaque nombre entier i la valeur de i%2"
      ]
    },
    {
      "cell_type": "code",
      "metadata": {
        "id": "DZxfaYS9nQcj",
        "colab_type": "code",
        "colab": {}
      },
      "source": [
        "for i in range(101):\n",
        "  print(i,\"  \",i%2)"
      ],
      "execution_count": 0,
      "outputs": []
    },
    {
      "cell_type": "markdown",
      "metadata": {
        "id": "4uC-h99poOnz",
        "colab_type": "text"
      },
      "source": [
        "a) Que vaut `i%2` pour les nombres pairs?\n",
        "\n",
        "b) Que vaut `i%2` pour les nombres impairs?"
      ]
    },
    {
      "cell_type": "markdown",
      "metadata": {
        "id": "eI2MMF12oYLc",
        "colab_type": "text"
      },
      "source": [
        "***Votre réponse ici:***"
      ]
    },
    {
      "cell_type": "markdown",
      "metadata": {
        "id": "u5L1qDrVoozh",
        "colab_type": "text"
      },
      "source": [
        "**II.2** Dans le programme du II.1, remplacer le 2 par un 3. \n",
        "\n",
        "a)Que vaut `i%3` pour les multiples de 3?\n",
        "\n",
        "b)Que vaut `i%3` pour les nombres qui ne sont pas des multiples de 3?"
      ]
    },
    {
      "cell_type": "markdown",
      "metadata": {
        "colab_type": "text",
        "id": "LTVLAo0fp9lx"
      },
      "source": [
        "***Votre réponse ici:***"
      ]
    },
    {
      "cell_type": "markdown",
      "metadata": {
        "colab_type": "text",
        "id": "FRfPjTrnqRjc"
      },
      "source": [
        "**II.3** En modifiant le programme du II.1, Répondre au question suivantes:\n",
        "\n",
        "a) Que vaut i%12 pour les multiples de 12? \n",
        "\n",
        "b) Que vaut i%12 pour les nombres qui ne sont pas des multiples de 12?"
      ]
    },
    {
      "cell_type": "markdown",
      "metadata": {
        "colab_type": "text",
        "id": "Hy1OBy8QtFLl"
      },
      "source": [
        "***Votre réponse ici:***"
      ]
    },
    {
      "cell_type": "markdown",
      "metadata": {
        "colab_type": "text",
        "id": "RsP14GMrt4em"
      },
      "source": [
        "### **Conclusion**\n",
        "\n",
        " remplir les textes à trous suivants ( $i$ et $a$ sont des entiers naturels):\n",
        "\n",
        "\n",
        "*   Si $i\\%2=0$ alors le nombre entier $i$ est ................ par 2\n",
        "*   Si $i\\%3=0$ alors le nombre entier $i$ est ......................\n",
        "*   Si $i\\%a=0$ alors le nombre entier $i$ est ......................\n",
        "\n",
        "\n",
        "---\n",
        "\n",
        "**Propriété :** $i\\%a$ donne le reste de la division euclidienne de $i$ par $a$, ce reste vaut 0 quand $i$ est divisible par a.\n",
        "\n",
        "\n",
        "---\n",
        "\n",
        "\n",
        "\n",
        "Par exemple :\n",
        "\n",
        "Multiple de 12:\n",
        "*   $60=5\\times 12 +0\\;$ donc   $\\;60\\%12=0$\n",
        "*   $66=60+6=5\\times 12 +6\\;$   donc   $\\;66\\%12=6$\n",
        "\n",
        "Multiples de 23:\n",
        "*   $230=10\\times 23+0\\;$ donc $\\;230\\%23=0$\n",
        "*   $245=10\\times 23+15\\;$ donc $\\;245\\%23=15$\n",
        "\n",
        "\n",
        "\n",
        "\n",
        "\n"
      ]
    },
    {
      "cell_type": "markdown",
      "metadata": {
        "id": "OMfW98csxBfg",
        "colab_type": "text"
      },
      "source": [
        "\n",
        "\n",
        "---\n",
        "## **III Listes des diviseurs**\n",
        "\n",
        "A l'aide de la fonction %:reste de la division euclidienne, écrire un programme qui affiche tous les diviseurs d'un entier $n$ donné.\n"
      ]
    },
    {
      "cell_type": "code",
      "metadata": {
        "id": "8MM76QoTxgcO",
        "colab_type": "code",
        "colab": {}
      },
      "source": [
        "n=535\n",
        "#tapez votre code ici\n"
      ],
      "execution_count": 0,
      "outputs": []
    }
  ]
}