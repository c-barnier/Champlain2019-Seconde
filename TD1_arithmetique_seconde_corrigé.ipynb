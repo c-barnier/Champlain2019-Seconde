{
  "nbformat": 4,
  "nbformat_minor": 0,
  "metadata": {
    "colab": {
      "name": "TD1-arithmetique_seconde_corrigé.ipynb",
      "provenance": [],
      "collapsed_sections": []
    },
    "kernelspec": {
      "name": "python3",
      "display_name": "Python 3"
    }
  },
  "cells": [
    {
      "cell_type": "markdown",
      "metadata": {
        "id": "ZrrWDWyisaLn",
        "colab_type": "text"
      },
      "source": [
        "#TD1 -  **Arithmétique en Seconde**"
      ]
    },
    {
      "cell_type": "markdown",
      "metadata": {
        "id": "_24pWOV8rAjt",
        "colab_type": "text"
      },
      "source": [
        "## **0 - Travail préparatoire**\n",
        "1)Remplir les noms et prénoms du groupe\n",
        "\n",
        "\n",
        "*   élève 1 : \n",
        "*   élève 2 :\n",
        "*   élève 3 :\n",
        "*   élève 4 :\n",
        "\n",
        "\n",
        "\n",
        "\n",
        "\n",
        "2)Ajouter les initiales des noms dans le nom du fichier en haut: **arithmetique_seconde_CNB.ipynb**.\n",
        "\n",
        "3)Quand vous avez fini votre travail, Dans le menu fichier choississez \"Télécharger le fichier .ipynb\", retrouver le fichier sur votre ordinateur dans le dossier téléchargement, et le copier dans l'espace de travail de la classe sur le réseau.\n",
        "\n"
      ]
    },
    {
      "cell_type": "markdown",
      "metadata": {
        "id": "xC0gMLCXjAB1",
        "colab_type": "text"
      },
      "source": [
        "\n",
        "\n",
        "---\n",
        "\n",
        "\n",
        "## **I - Multiples**\n",
        "**I.1 Les nombres entiers**\n",
        "\n",
        " Voici un programme qui affiche les nombres de 0 à 100.\n",
        "Pour l'exécuter, Cliquer sur la flèche \"Play\" à gauche du code."
      ]
    },
    {
      "cell_type": "code",
      "metadata": {
        "id": "7oN5Eh8Ci-yv",
        "colab_type": "code",
        "outputId": "7657e202-c9ff-4598-d48c-9ff089c118d3",
        "colab": {
          "base_uri": "https://localhost:8080/",
          "height": 1000
        }
      },
      "source": [
        "for i in range(101):\n",
        "  print(i)"
      ],
      "execution_count": 1,
      "outputs": [
        {
          "output_type": "stream",
          "text": [
            "0\n",
            "1\n",
            "2\n",
            "3\n",
            "4\n",
            "5\n",
            "6\n",
            "7\n",
            "8\n",
            "9\n",
            "10\n",
            "11\n",
            "12\n",
            "13\n",
            "14\n",
            "15\n",
            "16\n",
            "17\n",
            "18\n",
            "19\n",
            "20\n",
            "21\n",
            "22\n",
            "23\n",
            "24\n",
            "25\n",
            "26\n",
            "27\n",
            "28\n",
            "29\n",
            "30\n",
            "31\n",
            "32\n",
            "33\n",
            "34\n",
            "35\n",
            "36\n",
            "37\n",
            "38\n",
            "39\n",
            "40\n",
            "41\n",
            "42\n",
            "43\n",
            "44\n",
            "45\n",
            "46\n",
            "47\n",
            "48\n",
            "49\n",
            "50\n",
            "51\n",
            "52\n",
            "53\n",
            "54\n",
            "55\n",
            "56\n",
            "57\n",
            "58\n",
            "59\n",
            "60\n",
            "61\n",
            "62\n",
            "63\n",
            "64\n",
            "65\n",
            "66\n",
            "67\n",
            "68\n",
            "69\n",
            "70\n",
            "71\n",
            "72\n",
            "73\n",
            "74\n",
            "75\n",
            "76\n",
            "77\n",
            "78\n",
            "79\n",
            "80\n",
            "81\n",
            "82\n",
            "83\n",
            "84\n",
            "85\n",
            "86\n",
            "87\n",
            "88\n",
            "89\n",
            "90\n",
            "91\n",
            "92\n",
            "93\n",
            "94\n",
            "95\n",
            "96\n",
            "97\n",
            "98\n",
            "99\n",
            "100\n"
          ],
          "name": "stdout"
        }
      ]
    },
    {
      "cell_type": "markdown",
      "metadata": {
        "id": "WQxynb75kzFN",
        "colab_type": "text"
      },
      "source": [
        "**I.2 - Les nombres pairs** \n",
        "\n",
        " Sur la base du programme I.1, écrire un programme qui affiche les 101 premiers multiples de 2, c'est à dire les nombres paires."
      ]
    },
    {
      "cell_type": "code",
      "metadata": {
        "colab_type": "code",
        "outputId": "4e77b4ef-074f-4398-c185-6af7d92f651e",
        "id": "aAH2y4aylNit",
        "colab": {
          "base_uri": "https://localhost:8080/",
          "height": 1000
        }
      },
      "source": [
        "for i in range(101):\n",
        "  print(2*i)"
      ],
      "execution_count": 2,
      "outputs": [
        {
          "output_type": "stream",
          "text": [
            "0\n",
            "2\n",
            "4\n",
            "6\n",
            "8\n",
            "10\n",
            "12\n",
            "14\n",
            "16\n",
            "18\n",
            "20\n",
            "22\n",
            "24\n",
            "26\n",
            "28\n",
            "30\n",
            "32\n",
            "34\n",
            "36\n",
            "38\n",
            "40\n",
            "42\n",
            "44\n",
            "46\n",
            "48\n",
            "50\n",
            "52\n",
            "54\n",
            "56\n",
            "58\n",
            "60\n",
            "62\n",
            "64\n",
            "66\n",
            "68\n",
            "70\n",
            "72\n",
            "74\n",
            "76\n",
            "78\n",
            "80\n",
            "82\n",
            "84\n",
            "86\n",
            "88\n",
            "90\n",
            "92\n",
            "94\n",
            "96\n",
            "98\n",
            "100\n",
            "102\n",
            "104\n",
            "106\n",
            "108\n",
            "110\n",
            "112\n",
            "114\n",
            "116\n",
            "118\n",
            "120\n",
            "122\n",
            "124\n",
            "126\n",
            "128\n",
            "130\n",
            "132\n",
            "134\n",
            "136\n",
            "138\n",
            "140\n",
            "142\n",
            "144\n",
            "146\n",
            "148\n",
            "150\n",
            "152\n",
            "154\n",
            "156\n",
            "158\n",
            "160\n",
            "162\n",
            "164\n",
            "166\n",
            "168\n",
            "170\n",
            "172\n",
            "174\n",
            "176\n",
            "178\n",
            "180\n",
            "182\n",
            "184\n",
            "186\n",
            "188\n",
            "190\n",
            "192\n",
            "194\n",
            "196\n",
            "198\n",
            "200\n"
          ],
          "name": "stdout"
        }
      ]
    },
    {
      "cell_type": "markdown",
      "metadata": {
        "colab_type": "text",
        "id": "Mdl5NLorla2r"
      },
      "source": [
        "**I.3 Les nombres impairs**\n",
        "\n",
        "Sur la base du programme I.1, écrire un programme qui affiche les 101 premiers nombres impairs. Attention, le premier nombre impair est 1."
      ]
    },
    {
      "cell_type": "code",
      "metadata": {
        "colab_type": "code",
        "outputId": "6e1b5587-cd22-4531-a2f3-97c48be3ab24",
        "id": "whKtOZ3YlpR8",
        "colab": {
          "base_uri": "https://localhost:8080/",
          "height": 1000
        }
      },
      "source": [
        "for i in range(101):\n",
        "  print(2*i+1)"
      ],
      "execution_count": 3,
      "outputs": [
        {
          "output_type": "stream",
          "text": [
            "1\n",
            "3\n",
            "5\n",
            "7\n",
            "9\n",
            "11\n",
            "13\n",
            "15\n",
            "17\n",
            "19\n",
            "21\n",
            "23\n",
            "25\n",
            "27\n",
            "29\n",
            "31\n",
            "33\n",
            "35\n",
            "37\n",
            "39\n",
            "41\n",
            "43\n",
            "45\n",
            "47\n",
            "49\n",
            "51\n",
            "53\n",
            "55\n",
            "57\n",
            "59\n",
            "61\n",
            "63\n",
            "65\n",
            "67\n",
            "69\n",
            "71\n",
            "73\n",
            "75\n",
            "77\n",
            "79\n",
            "81\n",
            "83\n",
            "85\n",
            "87\n",
            "89\n",
            "91\n",
            "93\n",
            "95\n",
            "97\n",
            "99\n",
            "101\n",
            "103\n",
            "105\n",
            "107\n",
            "109\n",
            "111\n",
            "113\n",
            "115\n",
            "117\n",
            "119\n",
            "121\n",
            "123\n",
            "125\n",
            "127\n",
            "129\n",
            "131\n",
            "133\n",
            "135\n",
            "137\n",
            "139\n",
            "141\n",
            "143\n",
            "145\n",
            "147\n",
            "149\n",
            "151\n",
            "153\n",
            "155\n",
            "157\n",
            "159\n",
            "161\n",
            "163\n",
            "165\n",
            "167\n",
            "169\n",
            "171\n",
            "173\n",
            "175\n",
            "177\n",
            "179\n",
            "181\n",
            "183\n",
            "185\n",
            "187\n",
            "189\n",
            "191\n",
            "193\n",
            "195\n",
            "197\n",
            "199\n",
            "201\n"
          ],
          "name": "stdout"
        }
      ]
    },
    {
      "cell_type": "markdown",
      "metadata": {
        "colab_type": "text",
        "id": "4v1C789jl3FL"
      },
      "source": [
        "### **I.4 Les multiples de 3**\n",
        "\n",
        " Sur la base du programme I.1, écrire un programme qui affiche les 101 premiers multiple de a, ou a est un nombre entier quelconque."
      ]
    },
    {
      "cell_type": "code",
      "metadata": {
        "colab_type": "code",
        "id": "fKL1Qkgvmiej",
        "outputId": "0fdebcf4-7c0d-488b-9017-40270d65f274",
        "colab": {
          "base_uri": "https://localhost:8080/",
          "height": 1000
        }
      },
      "source": [
        "a=3\n",
        "for i in range(101):\n",
        "  print(a*i)"
      ],
      "execution_count": 4,
      "outputs": [
        {
          "output_type": "stream",
          "text": [
            "0\n",
            "3\n",
            "6\n",
            "9\n",
            "12\n",
            "15\n",
            "18\n",
            "21\n",
            "24\n",
            "27\n",
            "30\n",
            "33\n",
            "36\n",
            "39\n",
            "42\n",
            "45\n",
            "48\n",
            "51\n",
            "54\n",
            "57\n",
            "60\n",
            "63\n",
            "66\n",
            "69\n",
            "72\n",
            "75\n",
            "78\n",
            "81\n",
            "84\n",
            "87\n",
            "90\n",
            "93\n",
            "96\n",
            "99\n",
            "102\n",
            "105\n",
            "108\n",
            "111\n",
            "114\n",
            "117\n",
            "120\n",
            "123\n",
            "126\n",
            "129\n",
            "132\n",
            "135\n",
            "138\n",
            "141\n",
            "144\n",
            "147\n",
            "150\n",
            "153\n",
            "156\n",
            "159\n",
            "162\n",
            "165\n",
            "168\n",
            "171\n",
            "174\n",
            "177\n",
            "180\n",
            "183\n",
            "186\n",
            "189\n",
            "192\n",
            "195\n",
            "198\n",
            "201\n",
            "204\n",
            "207\n",
            "210\n",
            "213\n",
            "216\n",
            "219\n",
            "222\n",
            "225\n",
            "228\n",
            "231\n",
            "234\n",
            "237\n",
            "240\n",
            "243\n",
            "246\n",
            "249\n",
            "252\n",
            "255\n",
            "258\n",
            "261\n",
            "264\n",
            "267\n",
            "270\n",
            "273\n",
            "276\n",
            "279\n",
            "282\n",
            "285\n",
            "288\n",
            "291\n",
            "294\n",
            "297\n",
            "300\n"
          ],
          "name": "stdout"
        }
      ]
    },
    {
      "cell_type": "markdown",
      "metadata": {
        "id": "OrLDl4V3m5m0",
        "colab_type": "text"
      },
      "source": [
        "## **II - La fonction mathématique % ne donne pas le pourcentage, que donne-t-elle?**\n",
        "**II.1** Nous allons utiliser une nouvel fonction mathématique dont le symbole est le %.\n",
        "Le programme suivant affiche pour chaque nombre entier i la valeur de i%2"
      ]
    },
    {
      "cell_type": "code",
      "metadata": {
        "id": "DZxfaYS9nQcj",
        "colab_type": "code",
        "colab": {
          "base_uri": "https://localhost:8080/",
          "height": 1000
        },
        "outputId": "af9ad35d-e5a5-4ec1-d104-d9b06dbc2954"
      },
      "source": [
        "for i in range(101):\n",
        "  print(i,\"  \",i%2)"
      ],
      "execution_count": 5,
      "outputs": [
        {
          "output_type": "stream",
          "text": [
            "0    0\n",
            "1    1\n",
            "2    0\n",
            "3    1\n",
            "4    0\n",
            "5    1\n",
            "6    0\n",
            "7    1\n",
            "8    0\n",
            "9    1\n",
            "10    0\n",
            "11    1\n",
            "12    0\n",
            "13    1\n",
            "14    0\n",
            "15    1\n",
            "16    0\n",
            "17    1\n",
            "18    0\n",
            "19    1\n",
            "20    0\n",
            "21    1\n",
            "22    0\n",
            "23    1\n",
            "24    0\n",
            "25    1\n",
            "26    0\n",
            "27    1\n",
            "28    0\n",
            "29    1\n",
            "30    0\n",
            "31    1\n",
            "32    0\n",
            "33    1\n",
            "34    0\n",
            "35    1\n",
            "36    0\n",
            "37    1\n",
            "38    0\n",
            "39    1\n",
            "40    0\n",
            "41    1\n",
            "42    0\n",
            "43    1\n",
            "44    0\n",
            "45    1\n",
            "46    0\n",
            "47    1\n",
            "48    0\n",
            "49    1\n",
            "50    0\n",
            "51    1\n",
            "52    0\n",
            "53    1\n",
            "54    0\n",
            "55    1\n",
            "56    0\n",
            "57    1\n",
            "58    0\n",
            "59    1\n",
            "60    0\n",
            "61    1\n",
            "62    0\n",
            "63    1\n",
            "64    0\n",
            "65    1\n",
            "66    0\n",
            "67    1\n",
            "68    0\n",
            "69    1\n",
            "70    0\n",
            "71    1\n",
            "72    0\n",
            "73    1\n",
            "74    0\n",
            "75    1\n",
            "76    0\n",
            "77    1\n",
            "78    0\n",
            "79    1\n",
            "80    0\n",
            "81    1\n",
            "82    0\n",
            "83    1\n",
            "84    0\n",
            "85    1\n",
            "86    0\n",
            "87    1\n",
            "88    0\n",
            "89    1\n",
            "90    0\n",
            "91    1\n",
            "92    0\n",
            "93    1\n",
            "94    0\n",
            "95    1\n",
            "96    0\n",
            "97    1\n",
            "98    0\n",
            "99    1\n",
            "100    0\n"
          ],
          "name": "stdout"
        }
      ]
    },
    {
      "cell_type": "markdown",
      "metadata": {
        "id": "4uC-h99poOnz",
        "colab_type": "text"
      },
      "source": [
        "a) Que vaut `i%2` pour les nombres pairs?\n",
        "\n",
        "b) Que vaut `i%2` pour les nombres impairs?"
      ]
    },
    {
      "cell_type": "markdown",
      "metadata": {
        "id": "eI2MMF12oYLc",
        "colab_type": "text"
      },
      "source": [
        "***Votre réponse ici:***\n",
        "\n",
        "a) Pour les nombres pairs i%2 vaut 0\n",
        "\n",
        "b) Pour les nombres impairs i%2 vaut 1"
      ]
    },
    {
      "cell_type": "markdown",
      "metadata": {
        "id": "u5L1qDrVoozh",
        "colab_type": "text"
      },
      "source": [
        "**II.2** Dans le programme du II.1, remplacer le 2 par un 3. \n",
        "\n",
        "a)Que vaut `i%3` pour les multiples de 3?\n",
        "\n",
        "b)Que vaut `i%3` pour les nombres qui ne sont pas des multiples de 3?"
      ]
    },
    {
      "cell_type": "markdown",
      "metadata": {
        "colab_type": "text",
        "id": "LTVLAo0fp9lx"
      },
      "source": [
        "***Votre réponse ici:***\n",
        "\n",
        "a) Pour les multiples de 3 i%3 vaut 0, sinon i%3 vaut 1 ou 2"
      ]
    },
    {
      "cell_type": "markdown",
      "metadata": {
        "colab_type": "text",
        "id": "FRfPjTrnqRjc"
      },
      "source": [
        "**II.3** En modifiant le programme du II.1, Répondre au question suivantes:\n",
        "\n",
        "a) Que vaut i%12 pour les multiples de 12? \n",
        "\n",
        "b) Que vaut i%12 pour les nombres qui ne sont pas des multiples de 12?"
      ]
    },
    {
      "cell_type": "markdown",
      "metadata": {
        "colab_type": "text",
        "id": "Hy1OBy8QtFLl"
      },
      "source": [
        "***Votre réponse ici:***\n",
        "\n",
        "a) Pour les multiples de 12 i%12 vaut 0, sinon i%12 vaut entre 1 et 11 succesivement."
      ]
    },
    {
      "cell_type": "markdown",
      "metadata": {
        "colab_type": "text",
        "id": "RsP14GMrt4em"
      },
      "source": [
        "### **Conclusion**\n",
        "\n",
        " remplir les textes à trous suivants ( $i$ et $a$ sont des entiers naturels):\n",
        "\n",
        "\n",
        "*   Si $i\\%2=0$ alors le nombre entier $i$ est **divisible** par 2\n",
        "*   Si $i\\%3=0$ alors le nombre entier $i$ est **divisible par 3**\n",
        "*   Si $i\\%a=0$ alors le nombre entier $i$ est **divisible par 12**\n",
        "\n",
        "\n",
        "---\n",
        "\n",
        "**Propriété :** $i\\%a$ donne le reste de la division euclidienne de $i$ par $a$, ce reste vaut 0 quand $i$ est divisible par a.\n",
        "\n",
        "\n",
        "---\n",
        "\n",
        "\n",
        "\n",
        "Par exemple :\n",
        "\n",
        "Multiple de 12:\n",
        "*   $60=5\\times 12 +0\\;$ donc   $\\;60\\%12=0$\n",
        "*   $66=60+6=5\\times 12 +6\\;$   donc   $\\;66\\%12=6$\n",
        "\n",
        "Multiples de 23:\n",
        "*   $230=10\\times 23+0\\;$ donc $\\;230\\%23=0$\n",
        "*   $245=10\\times 23+15\\;$ donc $\\;245\\%23=15$\n",
        "\n",
        "\n",
        "\n",
        "\n",
        "\n"
      ]
    },
    {
      "cell_type": "markdown",
      "metadata": {
        "id": "OMfW98csxBfg",
        "colab_type": "text"
      },
      "source": [
        "\n",
        "\n",
        "---\n",
        "## **III Listes des diviseurs**\n",
        "\n",
        "A l'aide de la fonction %:reste de la division euclidienne, écrire un programme qui affiche tous les diviseurs d'un entier $n$ donné.\n"
      ]
    },
    {
      "cell_type": "code",
      "metadata": {
        "id": "8MM76QoTxgcO",
        "colab_type": "code",
        "outputId": "18c8919b-1cb3-4dbc-dcaf-a57bf1fdb254",
        "colab": {
          "base_uri": "https://localhost:8080/",
          "height": 308
        }
      },
      "source": [
        "n=1000\n",
        "for i in range (1,n+1):\n",
        "  if n%i==0:\n",
        "    print(i)"
      ],
      "execution_count": 0,
      "outputs": [
        {
          "output_type": "stream",
          "text": [
            "1\n",
            "2\n",
            "4\n",
            "5\n",
            "8\n",
            "10\n",
            "20\n",
            "25\n",
            "40\n",
            "50\n",
            "100\n",
            "125\n",
            "200\n",
            "250\n",
            "500\n",
            "1000\n"
          ],
          "name": "stdout"
        }
      ]
    }
  ]
}